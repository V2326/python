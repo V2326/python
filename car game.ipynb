{
 "cells": [
  {
   "cell_type": "code",
   "execution_count": null,
   "id": "02f4fee3-5053-4cd3-9be7-fea8b2f7d7da",
   "metadata": {},
   "outputs": [
    {
     "name": "stdin",
     "output_type": "stream",
     "text": [
      "> start\n"
     ]
    },
    {
     "name": "stdout",
     "output_type": "stream",
     "text": [
      "car started...\n"
     ]
    },
    {
     "name": "stdin",
     "output_type": "stream",
     "text": [
      "> help\n"
     ]
    },
    {
     "name": "stdout",
     "output_type": "stream",
     "text": [
      "\n",
      "        start-to start the car\n",
      "        stop-to stop the car\n",
      "        quit-to quit\n"
     ]
    },
    {
     "name": "stdin",
     "output_type": "stream",
     "text": [
      "> stop\n"
     ]
    },
    {
     "name": "stdout",
     "output_type": "stream",
     "text": [
      "car started\n"
     ]
    },
    {
     "name": "stdin",
     "output_type": "stream",
     "text": [
      "> iii\n"
     ]
    },
    {
     "name": "stdout",
     "output_type": "stream",
     "text": [
      "sorry,I don't understand that\n"
     ]
    }
   ],
   "source": [
    "command=\"\"\n",
    "while command.lower()!=\"quit\":\n",
    "    command=input(\">\").lower()\n",
    "    if(command==\"start\"):\n",
    "        print(\"car started...\")\n",
    "    elif(command==\"stop\"):\n",
    "        print(\"car started\")\n",
    "    elif(command==\"help\"):\n",
    "        print(\"\"\"\n",
    "        start-to start the car\n",
    "        stop-to stop the car\n",
    "        quit-to quit\"\"\")\n",
    "    elif(command==\"quit\"):\n",
    "        brek\n",
    "    else:\n",
    "        print(\"sorry,I don't understand that\")"
   ]
  },
  {
   "cell_type": "code",
   "execution_count": null,
   "id": "33d0e3b0-380d-47ef-bd3f-c5a73369f46b",
   "metadata": {},
   "outputs": [],
   "source": []
  }
 ],
 "metadata": {
  "kernelspec": {
   "display_name": "Python 3 (ipykernel)",
   "language": "python",
   "name": "python3"
  },
  "language_info": {
   "codemirror_mode": {
    "name": "ipython",
    "version": 3
   },
   "file_extension": ".py",
   "mimetype": "text/x-python",
   "name": "python",
   "nbconvert_exporter": "python",
   "pygments_lexer": "ipython3",
   "version": "3.13.5"
  }
 },
 "nbformat": 4,
 "nbformat_minor": 5
}
