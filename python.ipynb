{
 "cells": [
  {
   "cell_type": "code",
   "execution_count": 2,
   "id": "7f4a5a75-9c66-4bb1-9ba3-63e684f3665d",
   "metadata": {},
   "outputs": [
    {
     "name": "stdout",
     "output_type": "stream",
     "text": [
      "array('i', [1, 2, 3])\n"
     ]
    }
   ],
   "source": [
    "import array as arr\n",
    "a=arr.array('i',[1,2,3])\n",
    "print(a)\n"
   ]
  },
  {
   "cell_type": "code",
   "execution_count": 3,
   "id": "4a6f0b4e-3f71-4ed4-9257-82bd99a07e49",
   "metadata": {},
   "outputs": [
    {
     "name": "stdout",
     "output_type": "stream",
     "text": [
      "array('d', [1.2, 2.3, 3.4])\n"
     ]
    }
   ],
   "source": [
    "import array as arr\n",
    "a=arr.array('d',[1.2,2.3,3.4])\n",
    "print(a)"
   ]
  },
  {
   "cell_type": "code",
   "execution_count": 6,
   "id": "19549bab-cb84-4812-aad1-683b9a055d71",
   "metadata": {},
   "outputs": [
    {
     "name": "stdout",
     "output_type": "stream",
     "text": [
      "array('i', [1, 4, 5, 6])\n",
      "1\n",
      "4\n",
      "5\n",
      "6\n"
     ]
    }
   ],
   "source": [
    "import array as arr\n",
    "a=arr.array('i',[1,4,5,6])\n",
    "print(a)\n",
    "print(a[0])\n",
    "print(a[1])\n",
    "print(a[2])\n",
    "print(a[-1])"
   ]
  },
  {
   "cell_type": "code",
   "execution_count": 7,
   "id": "7a3d4740-0cd1-4748-8ef2-e8bd9e7675b4",
   "metadata": {},
   "outputs": [
    {
     "data": {
      "text/plain": [
       "3"
      ]
     },
     "execution_count": 7,
     "metadata": {},
     "output_type": "execute_result"
    }
   ],
   "source": [
    "a=arr.array('d',[1.1,2.3,4.7])\n",
    "len(a)"
   ]
  },
  {
   "cell_type": "code",
   "execution_count": 9,
   "id": "f5e6be16-bfbd-4f41-8da4-f9ad4363ee8b",
   "metadata": {},
   "outputs": [
    {
     "name": "stdout",
     "output_type": "stream",
     "text": [
      "array('i', [7, 8, 9, 57])\n"
     ]
    }
   ],
   "source": [
    "a=arr.array('i',[7,8,9])\n",
    "a.append(57)\n",
    "print(a)"
   ]
  },
  {
   "cell_type": "code",
   "execution_count": 11,
   "id": "b5b706a2-0948-48e9-b2bc-7441e38e3018",
   "metadata": {},
   "outputs": [
    {
     "name": "stdout",
     "output_type": "stream",
     "text": [
      "array('d', [3.5, 4.5, 6.7, 8.9])\n"
     ]
    }
   ],
   "source": [
    "a=arr.array('d',[3.5,6.7,8.9])\n",
    "a.insert(1,4.5)\n",
    "print(a)"
   ]
  },
  {
   "cell_type": "raw",
   "id": "4a65e502-ce1f-4358-91b3-06fc6cfb227b",
   "metadata": {},
   "source": [
    "a=arr.array('i',[7,8,9])\n",
    "print(a.pop())\n",
    "print(a.pop(1))"
   ]
  },
  {
   "cell_type": "code",
   "execution_count": 15,
   "id": "c6a40393-e261-45be-966e-d8763270a60f",
   "metadata": {},
   "outputs": [
    {
     "name": "stdout",
     "output_type": "stream",
     "text": [
      "array('i', [7, 8])\n",
      "array('i', [7, 8])\n"
     ]
    }
   ],
   "source": [
    "a=arr.array('i',[7,8,9])\n",
    "a.pop()\n",
    "print(a[0:2])\n",
    "print(a)"
   ]
  },
  {
   "cell_type": "code",
   "execution_count": 3,
   "id": "a9b54b87-0a7e-44df-b533-5634224aede7",
   "metadata": {},
   "outputs": [
    {
     "name": "stdout",
     "output_type": "stream",
     "text": [
      "<class 'set'>\n"
     ]
    }
   ],
   "source": [
    "print(type({10,20,30.5}))"
   ]
  },
  {
   "cell_type": "code",
   "execution_count": 6,
   "id": "eecf4f14-3e44-4b9e-b40d-b940d269e671",
   "metadata": {},
   "outputs": [
    {
     "name": "stdout",
     "output_type": "stream",
     "text": [
      "0\n"
     ]
    }
   ],
   "source": [
    "print(3//10)"
   ]
  },
  {
   "cell_type": "code",
   "execution_count": 7,
   "id": "3896f8e5-6c3e-4e91-854e-1982150ec336",
   "metadata": {},
   "outputs": [
    {
     "name": "stdout",
     "output_type": "stream",
     "text": [
      "True\n"
     ]
    }
   ],
   "source": [
    "a=10>5\n",
    "print(a)"
   ]
  },
  {
   "cell_type": "code",
   "execution_count": 8,
   "id": "537e9327-b27a-40f6-b9e5-646741ed5f01",
   "metadata": {},
   "outputs": [
    {
     "name": "stdout",
     "output_type": "stream",
     "text": [
      "HelloHow are you"
     ]
    }
   ],
   "source": [
    "print('Hello',end='')\n",
    "print('How are you',end='')"
   ]
  },
  {
   "cell_type": "code",
   "execution_count": 10,
   "id": "bf6af455-6799-4076-82b6-1cddfb10227e",
   "metadata": {},
   "outputs": [
    {
     "name": "stdout",
     "output_type": "stream",
     "text": [
      "1\n",
      "2\n"
     ]
    }
   ],
   "source": [
    "for i in range(1,5):\n",
    "    if i==3:\n",
    "        break\n",
    "    print(i)"
   ]
  },
  {
   "cell_type": "code",
   "execution_count": 11,
   "id": "84a884c8-730b-4f35-85f1-5cfb1e84a352",
   "metadata": {},
   "outputs": [
    {
     "name": "stdout",
     "output_type": "stream",
     "text": [
      "True\n"
     ]
    }
   ],
   "source": [
    "print(bool(25))"
   ]
  },
  {
   "cell_type": "code",
   "execution_count": 12,
   "id": "d459d073-5a30-4e7d-bb33-e369287ff61c",
   "metadata": {},
   "outputs": [
    {
     "name": "stdout",
     "output_type": "stream",
     "text": [
      "12.3457\n"
     ]
    }
   ],
   "source": [
    "x=12.3456789\n",
    "print('%3.4f'%x)"
   ]
  },
  {
   "cell_type": "code",
   "execution_count": 14,
   "id": "923b24ef-fdc5-4b75-b069-b870cdc39d8e",
   "metadata": {},
   "outputs": [
    {
     "name": "stdout",
     "output_type": "stream",
     "text": [
      "[1 2 3]\n",
      "<class 'numpy.ndarray'>\n"
     ]
    }
   ],
   "source": [
    "import numpy as np\n",
    "a=np.array([1,2,3])\n",
    "print(a)\n",
    "print(type(a))"
   ]
  },
  {
   "cell_type": "code",
   "execution_count": 19,
   "id": "12e52f97-3e70-4ebc-8795-81d63029063f",
   "metadata": {},
   "outputs": [
    {
     "name": "stdout",
     "output_type": "stream",
     "text": [
      "[[1.+0.j 2.+0.j 3.+0.j]\n",
      " [4.+0.j 5.+0.j 6.+0.j]]\n"
     ]
    }
   ],
   "source": [
    "import numpy as np\n",
    "a=np.array([[1,2,3],[4,5,6]],dtype=complex)\n",
    "print(a)"
   ]
  },
  {
   "cell_type": "code",
   "execution_count": 22,
   "id": "0253aab6-453b-465b-8f31-575301671d84",
   "metadata": {},
   "outputs": [
    {
     "name": "stdout",
     "output_type": "stream",
     "text": [
      "[1. 2. 3.]\n"
     ]
    }
   ],
   "source": [
    "import numpy as np\n",
    "a=np.array([1,2,3],dtype=float)\n",
    "print(a)"
   ]
  },
  {
   "cell_type": "code",
   "execution_count": 25,
   "id": "644d480d-c5b7-4f8d-a4e2-0fd1d155b08b",
   "metadata": {},
   "outputs": [
    {
     "name": "stdout",
     "output_type": "stream",
     "text": [
      "[[1 2 3]\n",
      " [4 5 6]]\n",
      "2\n",
      "8 bytes\n"
     ]
    }
   ],
   "source": [
    "import numpy as np\n",
    "a=np.array([[1,2,3],[4,5,6]])\n",
    "print(a)\n",
    "print(a.ndim)\n",
    "print(a.itemsize,\"bytes\")"
   ]
  },
  {
   "cell_type": "code",
   "execution_count": 2,
   "id": "ff6ff944-eb84-4509-b62c-e58b458cc86d",
   "metadata": {},
   "outputs": [
    {
     "name": "stdout",
     "output_type": "stream",
     "text": [
      "[[1 2 3]\n",
      " [4 5 6]]\n",
      "Array size: 6\n",
      "Shape: (2, 3)\n"
     ]
    }
   ],
   "source": [
    "import numpy as np\n",
    "a=np.array([[1,2,3],[4,5,6]])\n",
    "print(a)\n",
    "print(\"Array size:\",a.size)\n",
    "print(\"Shape:\",a.shape)"
   ]
  },
  {
   "cell_type": "code",
   "execution_count": 4,
   "id": "67641d02-15d3-4823-8f0c-889154f25884",
   "metadata": {},
   "outputs": [
    {
     "name": "stdout",
     "output_type": "stream",
     "text": [
      "printing original elements\n",
      "[[1 2 3]\n",
      " [4 5 6]]\n",
      "printing reshaped array\n",
      "[[1 2]\n",
      " [3 4]\n",
      " [5 6]]\n"
     ]
    }
   ],
   "source": [
    "import numpy as np\n",
    "a=np.array([[1,2,3],[4,5,6]])\n",
    "print(\"printing original elements\")\n",
    "print(a)\n",
    "a=a.reshape(3,2)\n",
    "print(\"printing reshaped array\")\n",
    "print(a)"
   ]
  },
  {
   "cell_type": "code",
   "execution_count": 4,
   "id": "fc93e1e4-b417-4800-aa76-df05a4b4c8ab",
   "metadata": {},
   "outputs": [
    {
     "name": "stdout",
     "output_type": "stream",
     "text": [
      "[1 2 3]\n",
      "maximum element: 3\n",
      "minimum element: 1\n",
      "the sum of elements is 6\n"
     ]
    }
   ],
   "source": [
    "import numpy as np\n",
    "a=np.array([1,2,3])\n",
    "print(a)\n",
    "print(\"maximum element:\",a.max())\n",
    "print(\"minimum element:\",a.min())\n",
    "print(\"the sum of elements is\",a.sum())"
   ]
  },
  {
   "cell_type": "code",
   "execution_count": 5,
   "id": "cc09fea9-a3fc-4441-b63f-5aad6ce497a1",
   "metadata": {},
   "outputs": [
    {
     "name": "stdout",
     "output_type": "stream",
     "text": [
      "[[1 2 3]\n",
      " [5 6 7]]\n",
      "maximum element: [5 6 7]\n",
      "minimum element: [1 5]\n",
      "the sum of elements is [ 6 18]\n"
     ]
    }
   ],
   "source": [
    "import numpy as np\n",
    "a=np.array([[1,2,3],[5,6,7]])\n",
    "print(a)\n",
    "print(\"maximum element:\",a.max(axis=0))\n",
    "print(\"minimum element:\",a.min(axis=1))\n",
    "print(\"the sum of elements is\",a.sum(axis=1))"
   ]
  },
  {
   "cell_type": "code",
   "execution_count": 6,
   "id": "af809480-e937-471e-8af0-33a88d3fa3e9",
   "metadata": {},
   "outputs": [
    {
     "name": "stdout",
     "output_type": "stream",
     "text": [
      "[1 2 3 5 6 7]\n"
     ]
    }
   ],
   "source": [
    "import numpy as np\n",
    "a=np.array([[1,2,3],[5,6,7]])\n",
    "b=a.flatten()\n",
    "print(b)"
   ]
  },
  {
   "cell_type": "code",
   "execution_count": 9,
   "id": "6da44805-936f-4577-9d0d-8a2a98942e2e",
   "metadata": {},
   "outputs": [
    {
     "name": "stdout",
     "output_type": "stream",
     "text": [
      "[[  3  -4  10]\n",
      " [ 12 -13  22]\n",
      " [  3  -7   4]]\n"
     ]
    }
   ],
   "source": [
    "import numpy as np\n",
    "a=np.array([[1,2,3],[4,5,6],[1,2,0]])\n",
    "b=np.array([[3,-1,0],[0,-3,2],[0,1,2]])\n",
    "c=a.dot(b)\n",
    "print(c)"
   ]
  },
  {
   "cell_type": "code",
   "execution_count": 16,
   "id": "0e10ff32-057d-4664-a5ad-80eb6b3a8a31",
   "metadata": {},
   "outputs": [
    {
     "name": "stdout",
     "output_type": "stream",
     "text": [
      "7\n"
     ]
    }
   ],
   "source": [
    "txt=\"hii,welcome to my home\"\n",
    "x=txt.find(\"c\",5,10)\n",
    "print(x)"
   ]
  },
  {
   "cell_type": "code",
   "execution_count": 6,
   "id": "290a5573-f688-4a02-b3cc-52dc4cfc60ca",
   "metadata": {},
   "outputs": [
    {
     "name": "stdout",
     "output_type": "stream",
     "text": [
      "('a', 10)\n",
      "('b', 20)\n",
      "('c', 30)\n"
     ]
    }
   ],
   "source": [
    "def func1(*args,**kwargs):\n",
    "    for i in kwargs.items():\n",
    "        print(i)\n",
    "func1(a=10,b=20,c=30)"
   ]
  },
  {
   "cell_type": "code",
   "execution_count": 7,
   "id": "66d39ecd-d064-4606-8510-b68b46fc1dde",
   "metadata": {},
   "outputs": [
    {
     "name": "stdout",
     "output_type": "stream",
     "text": [
      "299792458.0\n",
      "6.62607015e-34\n",
      "6.02214076e+23\n"
     ]
    }
   ],
   "source": [
    "from scipy import constants\n",
    "print(constants.c)\n",
    "print(constants.h)\n",
    "print(constants.N_A)"
   ]
  },
  {
   "cell_type": "code",
   "execution_count": 16,
   "id": "9481bf3f-440c-4b7c-aea8-22ef93ba3274",
   "metadata": {},
   "outputs": [
    {
     "data": {
      "image/png": "[encoded data removed]",
      "text/plain": [
       "<Figure size 640x480 with 1 Axes>"
      ]
     },
     "metadata": {},
     "output_type": "display_data"
    }
   ],
   "source": [
    "import numpy as np\n",
    "import matplotlib.pyplot as plt\n",
    "%matplotlib inline\n",
    "np.random.seed(10)\n",
    "N=40\n",
    "x=np.random.rand(N)\n",
    "y=np.random.rand(N)\n",
    "colors=np.random.rand(N)\n",
    "area=(40*np.random.rand(N))**2\n",
    "plt.scatter(x,y,s=area,c=colors,alpha=0.6)\n",
    "plt.show()"
   ]
  },
  {
   "cell_type": "code",
   "execution_count": 4,
   "id": "735ea41c-4a6d-4cbb-8ff4-b294e2adf922",
   "metadata": {},
   "outputs": [
    {
     "name": "stdin",
     "output_type": "stream",
     "text": [
      "enter a number 4\n"
     ]
    },
    {
     "name": "stdout",
     "output_type": "stream",
     "text": [
      "24\n"
     ]
    }
   ],
   "source": [
    "n=int(input(\"enter a number\"))\n",
    "fact=1\n",
    "for i in range(1,n+1):\n",
    "    fact*=i\n",
    "print(fact)"
   ]
  },
  {
   "cell_type": "code",
   "execution_count": 6,
   "id": "fa601710-29c3-48a7-920c-b3ecde0d1a2a",
   "metadata": {},
   "outputs": [
    {
     "data": {
      "text/plain": [
       "1    2\n",
       "2    4\n",
       "3    6\n",
       "4    8\n",
       "dtype: int64"
      ]
     },
     "execution_count": 6,
     "metadata": {},
     "output_type": "execute_result"
    }
   ],
   "source": [
    "import pandas as pd\n",
    "arr=[2,4,6,8]\n",
    "order=[1,2,3,4]\n",
    "s1=pd.Series(arr,order)\n",
    "s1"
   ]
  },
  {
   "cell_type": "code",
   "execution_count": 11,
   "id": "a7c12a78-af33-4f7b-a523-23f433001ade",
   "metadata": {},
   "outputs": [
    {
     "data": {
      "text/plain": [
       "a    0.696186\n",
       "b   -1.590473\n",
       "c   -0.322988\n",
       "d    0.082391\n",
       "dtype: float64"
      ]
     },
     "execution_count": 11,
     "metadata": {},
     "output_type": "execute_result"
    }
   ],
   "source": [
    "import numpy as np\n",
    "n=np.random.randn(4)\n",
    "index=['a','b','c','d']\n",
    "s2=pd.Series(n,index=index)\n",
    "s2"
   ]
  },
  {
   "cell_type": "code",
   "execution_count": 12,
   "id": "35481cf7-7776-4e50-838a-146f1c4a4670",
   "metadata": {},
   "outputs": [
    {
     "data": {
      "text/plain": [
       "a    0.696186\n",
       "b   -1.590473\n",
       "c   -0.322988\n",
       "dtype: float64"
      ]
     },
     "execution_count": 12,
     "metadata": {},
     "output_type": "execute_result"
    }
   ],
   "source": [
    "a=s2[0:3]\n",
    "a"
   ]
  },
  {
   "cell_type": "code",
   "execution_count": 15,
   "id": "c6c00930-bd9f-450e-8809-132689be74b3",
   "metadata": {},
   "outputs": [
    {
     "data": {
      "text/plain": [
       "a    0.696186\n",
       "b   -1.590473\n",
       "c   -0.322988\n",
       "dtype: float64"
      ]
     },
     "execution_count": 15,
     "metadata": {},
     "output_type": "execute_result"
    }
   ],
   "source": [
    "s2.drop('d')"
   ]
  },
  {
   "cell_type": "code",
   "execution_count": 16,
   "id": "f798b51f-f03f-40cd-85ce-27343f253a3b",
   "metadata": {},
   "outputs": [
    {
     "data": {
      "text/plain": [
       "0    6\n",
       "1    7\n",
       "2    8\n",
       "3    9\n",
       "4    5\n",
       "dtype: int64"
      ]
     },
     "execution_count": 16,
     "metadata": {},
     "output_type": "execute_result"
    }
   ],
   "source": [
    "arr1=[0,1,2,3,4,5]\n",
    "arr2=[6,7,8,9,5]\n",
    "s4=pd.Series(arr2)\n",
    "s4"
   ]
  },
  {
   "cell_type": "code",
   "execution_count": 17,
   "id": "b7823dad-d653-4ee6-8106-ca590134c7c2",
   "metadata": {},
   "outputs": [
    {
     "data": {
      "text/plain": [
       "0    0\n",
       "1    1\n",
       "2    2\n",
       "3    3\n",
       "4    4\n",
       "5    5\n",
       "dtype: int64"
      ]
     },
     "execution_count": 17,
     "metadata": {},
     "output_type": "execute_result"
    }
   ],
   "source": [
    "s5=pd.Series(arr1)\n",
    "s5"
   ]
  },
  {
   "cell_type": "code",
   "execution_count": 18,
   "id": "fde8043a-d4aa-4145-82fa-98231700d5b2",
   "metadata": {},
   "outputs": [
    {
     "data": {
      "text/plain": [
       "0     6.0\n",
       "1     8.0\n",
       "2    10.0\n",
       "3    12.0\n",
       "4     9.0\n",
       "5     NaN\n",
       "dtype: float64"
      ]
     },
     "execution_count": 18,
     "metadata": {},
     "output_type": "execute_result"
    }
   ],
   "source": [
    "s4.add(s5)"
   ]
  },
  {
   "cell_type": "code",
   "execution_count": 22,
   "id": "5b38770b-6faf-43f9-8770-5f62cccdc317",
   "metadata": {},
   "outputs": [
    {
     "name": "stdout",
     "output_type": "stream",
     "text": [
      "median 7.0\n",
      "max 9\n",
      "min 5\n"
     ]
    }
   ],
   "source": [
    "print('median',s4.median())\n",
    "print('max',s4.max())\n",
    "print('min',s4.min())"
   ]
  },
  {
   "cell_type": "code",
   "execution_count": 26,
   "id": "1d60ac03-d939-4551-b582-47faa8268d07",
   "metadata": {},
   "outputs": [
    {
     "data": {
      "text/plain": [
       "DatetimeIndex(['2025-08-18 20:03:31.079117', '2025-08-19 20:03:31.079117',\n",
       "               '2025-08-20 20:03:31.079117', '2025-08-21 20:03:31.079117',\n",
       "               '2025-08-22 20:03:31.079117', '2025-08-23 20:03:31.079117'],\n",
       "              dtype='datetime64[ns]', freq='D')"
      ]
     },
     "execution_count": 26,
     "metadata": {},
     "output_type": "execute_result"
    }
   ],
   "source": [
    "import pandas as pd\n",
    "dates=pd.date_range('today',periods=6)\n",
    "dates"
   ]
  },
  {
   "cell_type": "code",
   "execution_count": 34,
   "id": "f8bda1bb-892d-47df-b1b7-4b15fb25a009",
   "metadata": {},
   "outputs": [
    {
     "data": {
      "text/html": [
       "<div>\n",
       "<style scoped>\n",
       "    .dataframe tbody tr th:only-of-type {\n",
       "        vertical-align: middle;\n",
       "    }\n",
       "\n",
       "    .dataframe tbody tr th {\n",
       "        vertical-align: top;\n",
       "    }\n",
       "\n",
       "    .dataframe thead th {\n",
       "        text-align: right;\n",
       "    }\n",
       "</style>\n",
       "<table border=\"1\" class=\"dataframe\">\n",
       "  <thead>\n",
       "    <tr style=\"text-align: right;\">\n",
       "      <th></th>\n",
       "      <th>A</th>\n",
       "      <th>B</th>\n",
       "      <th>C</th>\n",
       "      <th>D</th>\n",
       "    </tr>\n",
       "  </thead>\n",
       "  <tbody>\n",
       "    <tr>\n",
       "      <th>2025-08-18 20:18:36.595139</th>\n",
       "      <td>1.660745</td>\n",
       "      <td>-0.122322</td>\n",
       "      <td>-1.570106</td>\n",
       "      <td>-0.398527</td>\n",
       "    </tr>\n",
       "    <tr>\n",
       "      <th>2025-08-19 20:18:36.595139</th>\n",
       "      <td>-0.384615</td>\n",
       "      <td>1.297504</td>\n",
       "      <td>1.190851</td>\n",
       "      <td>-0.610610</td>\n",
       "    </tr>\n",
       "    <tr>\n",
       "      <th>2025-08-20 20:18:36.595139</th>\n",
       "      <td>-0.565058</td>\n",
       "      <td>0.085125</td>\n",
       "      <td>1.256948</td>\n",
       "      <td>1.739503</td>\n",
       "    </tr>\n",
       "    <tr>\n",
       "      <th>2025-08-21 20:18:36.595139</th>\n",
       "      <td>1.353564</td>\n",
       "      <td>0.565472</td>\n",
       "      <td>1.694374</td>\n",
       "      <td>-1.764286</td>\n",
       "    </tr>\n",
       "    <tr>\n",
       "      <th>2025-08-22 20:18:36.595139</th>\n",
       "      <td>-0.700538</td>\n",
       "      <td>-0.212875</td>\n",
       "      <td>0.233850</td>\n",
       "      <td>1.322489</td>\n",
       "    </tr>\n",
       "    <tr>\n",
       "      <th>2025-08-23 20:18:36.595139</th>\n",
       "      <td>-0.034518</td>\n",
       "      <td>-0.499225</td>\n",
       "      <td>0.734407</td>\n",
       "      <td>-1.423698</td>\n",
       "    </tr>\n",
       "  </tbody>\n",
       "</table>\n",
       "</div>"
      ],
      "text/plain": [
       "                                   A         B         C         D\n",
       "2025-08-18 20:18:36.595139  1.660745 -0.122322 -1.570106 -0.398527\n",
       "2025-08-19 20:18:36.595139 -0.384615  1.297504  1.190851 -0.610610\n",
       "2025-08-20 20:18:36.595139 -0.565058  0.085125  1.256948  1.739503\n",
       "2025-08-21 20:18:36.595139  1.353564  0.565472  1.694374 -1.764286\n",
       "2025-08-22 20:18:36.595139 -0.700538 -0.212875  0.233850  1.322489\n",
       "2025-08-23 20:18:36.595139 -0.034518 -0.499225  0.734407 -1.423698"
      ]
     },
     "execution_count": 34,
     "metadata": {},
     "output_type": "execute_result"
    }
   ],
   "source": [
    "import pandas as pd\n",
    "dates=pd.date_range('today',periods=6)\n",
    "num_arr=np.random.randn(6,4)\n",
    "columns=['A','B','C','D']\n",
    "\n",
    "df1=pd.DataFrame(num_arr, index=dates, columns=columns)\n",
    "df1"
   ]
  },
  {
   "cell_type": "code",
   "execution_count": 4,
   "id": "5900de4f-bac5-460c-9a23-62f86956ec14",
   "metadata": {},
   "outputs": [
    {
     "data": {
      "text/plain": [
       "[<matplotlib.lines.Line2D at 0x28ac328bed0>]"
      ]
     },
     "execution_count": 4,
     "metadata": {},
     "output_type": "execute_result"
    },
    {
     "data": {
      "image/png": "[encoded data removed]",
      "text/plain": [
       "<Figure size 640x480 with 1 Axes>"
      ]
     },
     "metadata": {},
     "output_type": "display_data"
    }
   ],
   "source": [
    "from matplotlib import pylab\n",
    "x=(0,10)\n",
    "y=(0,10)\n",
    "pylab.plot(x,y,'r')"
   ]
  },
  {
   "cell_type": "code",
   "execution_count": 10,
   "id": "249ef573-106d-4561-9425-b8c2796e5449",
   "metadata": {},
   "outputs": [
    {
     "data": {
      "text/plain": [
       "[<matplotlib.lines.Line2D at 0x28ac3d19f90>]"
      ]
     },
     "execution_count": 10,
     "metadata": {},
     "output_type": "execute_result"
    },
    {
     "data": {
      "image/png": "[encoded data removed]",
      "text/plain": [
       "<Figure size 640x480 with 2 Axes>"
      ]
     },
     "metadata": {},
     "output_type": "display_data"
    }
   ],
   "source": [
    "pylab.subplot(1,2,1)\n",
    "pylab.plot(x,y,'r--')\n",
    "pylab.subplot(1,2,2)\n",
    "pylab.plot(y,x,'g--')"
   ]
  },
  {
   "cell_type": "code",
   "execution_count": 31,
   "id": "a9ca3786-cf8c-408e-8c12-4cde6b52970c",
   "metadata": {},
   "outputs": [
    {
     "data": {
      "image/png": "[encoded data removed]",
      "text/plain": [
       "<Figure size 600x600 with 1 Axes>"
      ]
     },
     "metadata": {},
     "output_type": "display_data"
    }
   ],
   "source": [
    "\"\"\"Draw radar chart\"\"\"\n",
    "import matplotlib.pyplot as plt\n",
    "fig= plt.figure(figsize=(6,6))\n",
    "ax=fig.add_axes([0.0, 0.0, .6, .6],polar=True)"
   ]
  },
  {
   "cell_type": "code",
   "execution_count": null,
   "id": "20a88fe8-6634-44e0-9601-162df52aa928",
   "metadata": {},
   "outputs": [],
   "source": []
  }
 ],
 "metadata": {
  "kernelspec": {
   "display_name": "Python 3 (ipykernel)",
   "language": "python",
   "name": "python3"
  },
  "language_info": {
   "codemirror_mode": {
    "name": "ipython",
    "version": 3
   },
   "file_extension": ".py",
   "mimetype": "text/x-python",
   "name": "python",
   "nbconvert_exporter": "python",
   "pygments_lexer": "ipython3",
   "version": "3.13.5"
  }
 },
 "nbformat": 4,
 "nbformat_minor": 5
}
