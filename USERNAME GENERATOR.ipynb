{
 "cells": [
  {
   "cell_type": "code",
   "execution_count": 5,
   "id": "7aff4248-5b83-43a8-aaaa-b64f6aae2f96",
   "metadata": {},
   "outputs": [
    {
     "name": "stdin",
     "output_type": "stream",
     "text": [
      "  vaishu\n",
      "  vaishnavi\n"
     ]
    },
    {
     "name": "stdout",
     "output_type": "stream",
     "text": [
      "Your username could be: vaishu_vaishnavi\n"
     ]
    }
   ],
   "source": [
    "USERNAME GENERATOR\n",
    "nickname=input(str(\" \"))\n",
    "realname=input(str(\" \"))\n",
    "username=nickname+\"_\"+realname\n",
    "print(\"Your username could be:\",username)"
   ]
  }
 ],
 "metadata": {
  "kernelspec": {
   "display_name": "Python 3 (ipykernel)",
   "language": "python",
   "name": "python3"
  },
  "language_info": {
   "codemirror_mode": {
    "name": "ipython",
    "version": 3
   },
   "file_extension": ".py",
   "mimetype": "text/x-python",
   "name": "python",
   "nbconvert_exporter": "python",
   "pygments_lexer": "ipython3",
   "version": "3.13.5"
  }
 },
 "nbformat": 4,
 "nbformat_minor": 5
}
