{
 "cells": [
  {
   "cell_type": "code",
   "execution_count": null,
   "id": "a262765a-42ed-4828-b46b-2a570840e62d",
   "metadata": {},
   "outputs": [],
   "source": [
    "secret_number=7\n",
    "guess_count=0\n",
    "guess_limits=3\n",
    "while(guess_count<guess_limits):\n",
    "    guess=int(input(\"guess:\"))\n",
    "    guess_count+=1\n",
    "    if(guess==secret_number):\n",
    "        print(\"you won!\")\n",
    "    \n",
    "    "
   ]
  },
  {
   "cell_type": "code",
   "execution_count": null,
   "id": "827fe1f3-e621-456e-ad1a-9a1c34ab3549",
   "metadata": {},
   "outputs": [],
   "source": []
  }
 ],
 "metadata": {
  "kernelspec": {
   "display_name": "Python 3 (ipykernel)",
   "language": "python",
   "name": "python3"
  },
  "language_info": {
   "codemirror_mode": {
    "name": "ipython",
    "version": 3
   },
   "file_extension": ".py",
   "mimetype": "text/x-python",
   "name": "python",
   "nbconvert_exporter": "python",
   "pygments_lexer": "ipython3",
   "version": "3.13.5"
  }
 },
 "nbformat": 4,
 "nbformat_minor": 5
}
