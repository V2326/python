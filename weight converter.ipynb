{
 "cells": [
  {
   "cell_type": "code",
   "execution_count": 12,
   "id": "8dc80bd1-da46-4acd-8534-7a9c6cf670e0",
   "metadata": {},
   "outputs": [
    {
     "name": "stdin",
     "output_type": "stream",
     "text": [
      "weight: 60\n",
      "(L)bs or (k)g k\n"
     ]
    },
    {
     "name": "stdout",
     "output_type": "stream",
     "text": [
      "you are 133.33333333333334 ponds\n"
     ]
    }
   ],
   "source": [
    "weight=int(input('weight:'))\n",
    "unit=input('(L)bs or (k)g')\n",
    "if(unit=='L'):\n",
    "    converted=weight*0.45\n",
    "    print(f\"you are {converted} kilos\")\n",
    "else:\n",
    "    converted=weight/0.45\n",
    "    print(f\"you are {converted} ponds\")"
   ]
  },
  {
   "cell_type": "code",
   "execution_count": null,
   "id": "b96be75d-ee3e-4f91-9d7c-3f7a926f3561",
   "metadata": {},
   "outputs": [],
   "source": []
  }
 ],
 "metadata": {
  "kernelspec": {
   "display_name": "Python 3 (ipykernel)",
   "language": "python",
   "name": "python3"
  },
  "language_info": {
   "codemirror_mode": {
    "name": "ipython",
    "version": 3
   },
   "file_extension": ".py",
   "mimetype": "text/x-python",
   "name": "python",
   "nbconvert_exporter": "python",
   "pygments_lexer": "ipython3",
   "version": "3.13.5"
  }
 },
 "nbformat": 4,
 "nbformat_minor": 5
}
